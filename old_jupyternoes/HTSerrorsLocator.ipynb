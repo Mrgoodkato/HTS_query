{
 "cells": [
  {
   "cell_type": "code",
   "execution_count": 1,
   "metadata": {},
   "outputs": [],
   "source": [
    "import pandas as pd\n",
    "import openpyxl as op\n",
    "import re as reg"
   ]
  },
  {
   "cell_type": "code",
   "execution_count": 2,
   "metadata": {},
   "outputs": [],
   "source": [
    "error_tariffs = [\n",
    "    \"4023908680\"\n",
    "]\n",
    "\n",
    "path = 'files/PARTS TEMPLATE UPLOAD ROSH ENTERPRISE 709503.xlsx'\n",
    "\n",
    "df = pd.read_excel(path)\n",
    "\n"
   ]
  },
  {
   "cell_type": "code",
   "execution_count": 3,
   "metadata": {},
   "outputs": [],
   "source": [
    "def errorLocator():\n",
    "\n",
    "\tnew_df = pd.DataFrame(columns=['Parts affected', 'Tariff not found'])\n",
    "\n",
    "\tindex = 0\n",
    "\n",
    "\tfor tariff in error_tariffs:         \n",
    "\t\t\n",
    "\t\ttemp_list = []\n",
    "\n",
    "\t\tfor row in df.iterrows():\n",
    "\t\t\tnew_df.loc[index, 'Tariff not found'] = tariff\n",
    "\t\t\trowTariff = reg.sub('\\.', '', row[1][10])\n",
    "\n",
    "\t\t\tif(str(rowTariff) == str(tariff)):\n",
    "\t\t\t\ttemp_list.append(row[1][2])\n",
    "\t\t\t\tnew_df.loc[index, 'Parts affected'] = temp_list\n",
    "\t\t\n",
    "\t\tindex += 1\n",
    "\t\tprint(index)\n",
    "\n",
    "\treturn new_df\n",
    "\n"
   ]
  },
  {
   "cell_type": "code",
   "execution_count": 4,
   "metadata": {},
   "outputs": [
    {
     "name": "stdout",
     "output_type": "stream",
     "text": [
      "1\n"
     ]
    }
   ],
   "source": [
    "result = errorLocator()\n",
    "\n",
    "result.to_excel('output/error_tariffs.xlsx')"
   ]
  }
 ],
 "metadata": {
  "kernelspec": {
   "display_name": "Python 3",
   "language": "python",
   "name": "python3"
  },
  "language_info": {
   "codemirror_mode": {
    "name": "ipython",
    "version": 3
   },
   "file_extension": ".py",
   "mimetype": "text/x-python",
   "name": "python",
   "nbconvert_exporter": "python",
   "pygments_lexer": "ipython3",
   "version": "3.10.12"
  },
  "orig_nbformat": 4
 },
 "nbformat": 4,
 "nbformat_minor": 2
}
