{
 "cells": [
  {
   "cell_type": "code",
   "execution_count": 4,
   "metadata": {},
   "outputs": [
    {
     "name": "stdout",
     "output_type": "stream",
     "text": [
      "c:\\Users\\RICARDO\\Documents\\github\\HTS_query\\main\\db\\.env\n",
      "Connected to localhost on 27017\n",
      "Closed connection to mongodb\n"
     ]
    }
   ],
   "source": [
    "import query_string_db, json\n",
    "\n",
    "test_query = query_string_db.queryStringDb('Swine, Purebred breeding animals', True)\n",
    "\n",
    "with open('test_dumps/string_query_result.json', 'w') as file:\n",
    "    json.dump(test_query, file)"
   ]
  }
 ],
 "metadata": {
  "kernelspec": {
   "display_name": "venv",
   "language": "python",
   "name": "python3"
  },
  "language_info": {
   "codemirror_mode": {
    "name": "ipython",
    "version": 3
   },
   "file_extension": ".py",
   "mimetype": "text/x-python",
   "name": "python",
   "nbconvert_exporter": "python",
   "pygments_lexer": "ipython3",
   "version": "3.12.3"
  }
 },
 "nbformat": 4,
 "nbformat_minor": 2
}
