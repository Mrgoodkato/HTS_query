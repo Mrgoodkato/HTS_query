{
 "cells": [
  {
   "cell_type": "code",
   "execution_count": 1,
   "metadata": {},
   "outputs": [
    {
     "name": "stdout",
     "output_type": "stream",
     "text": [
      "/home/ricardo_study/Documents/HTS_query/main/db/.env\n",
      "Connected to localhost on 27017\n",
      "Closed connection to mongodb\n"
     ]
    },
    {
     "ename": "KeyError",
     "evalue": "'htsno'",
     "output_type": "error",
     "traceback": [
      "\u001b[0;31m---------------------------------------------------------------------------\u001b[0m",
      "\u001b[0;31mKeyError\u001b[0m                                  Traceback (most recent call last)",
      "Cell \u001b[0;32mIn[1], line 3\u001b[0m\n\u001b[1;32m      1\u001b[0m \u001b[38;5;28;01mimport\u001b[39;00m \u001b[38;5;21;01mquery_string_db\u001b[39;00m\n\u001b[0;32m----> 3\u001b[0m test_query \u001b[38;5;241m=\u001b[39m \u001b[43mquery_string_db\u001b[49m\u001b[38;5;241;43m.\u001b[39;49m\u001b[43mqueryStringDb\u001b[49m\u001b[43m(\u001b[49m\u001b[38;5;124;43m'\u001b[39;49m\u001b[38;5;124;43mBlack swift foxes jumping jacks in uranium 235, and there will be cows, and a horse\u001b[39;49m\u001b[38;5;124;43m%\u001b[39;49m\u001b[38;5;124;43m$\u001b[39;49m\u001b[38;5;124;43m\"\u001b[39;49m\u001b[38;5;124;43m'\u001b[39;49m\u001b[43m,\u001b[49m\u001b[43m \u001b[49m\u001b[38;5;28;43;01mTrue\u001b[39;49;00m\u001b[43m)\u001b[49m\n\u001b[1;32m      5\u001b[0m test_query\n",
      "File \u001b[0;32m~/Documents/HTS_query/main/query_string_db.py:10\u001b[0m, in \u001b[0;36mqueryStringDb\u001b[0;34m(query_str, testing)\u001b[0m\n\u001b[1;32m      8\u001b[0m query_result \u001b[38;5;241m=\u001b[39m conn\u001b[38;5;241m.\u001b[39mqueryStringDict(query_list)\n\u001b[1;32m      9\u001b[0m conn\u001b[38;5;241m.\u001b[39mcloseConnection()\n\u001b[0;32m---> 10\u001b[0m mapped_result \u001b[38;5;241m=\u001b[39m \u001b[43mquery_hts_string_mapping\u001b[49m\u001b[38;5;241;43m.\u001b[39;49m\u001b[43mmapStringQuery\u001b[49m\u001b[43m(\u001b[49m\u001b[43mquery_result\u001b[49m\u001b[43m)\u001b[49m\n\u001b[1;32m     11\u001b[0m sorted_result \u001b[38;5;241m=\u001b[39m query_hts_string_mapping\u001b[38;5;241m.\u001b[39msortMapByOccurrence(mapped_result)\n\u001b[1;32m     13\u001b[0m \u001b[38;5;28;01mreturn\u001b[39;00m sorted_result\n",
      "File \u001b[0;32m~/Documents/HTS_query/main/scripts/query_hts_string_mapping.py:35\u001b[0m, in \u001b[0;36mmapStringQuery\u001b[0;34m(query_result)\u001b[0m\n\u001b[1;32m     33\u001b[0m query_str \u001b[38;5;241m=\u001b[39m item[\u001b[38;5;124m'\u001b[39m\u001b[38;5;124mquery\u001b[39m\u001b[38;5;124m'\u001b[39m]\n\u001b[1;32m     34\u001b[0m \u001b[38;5;28;01mfor\u001b[39;00m data \u001b[38;5;129;01min\u001b[39;00m item[\u001b[38;5;124m'\u001b[39m\u001b[38;5;124mdata\u001b[39m\u001b[38;5;124m'\u001b[39m]:\n\u001b[0;32m---> 35\u001b[0m     \u001b[38;5;28;01mif\u001b[39;00m \u001b[43mdata\u001b[49m\u001b[43m[\u001b[49m\u001b[38;5;124;43m'\u001b[39;49m\u001b[38;5;124;43mhtsno\u001b[39;49m\u001b[38;5;124;43m'\u001b[39;49m\u001b[43m]\u001b[49m \u001b[38;5;241m==\u001b[39m \u001b[38;5;28;01mNone\u001b[39;00m:\n\u001b[1;32m     36\u001b[0m         key_EH \u001b[38;5;241m=\u001b[39m \u001b[38;5;124mf\u001b[39m\u001b[38;5;124m\"\u001b[39m\u001b[38;5;124mINDX-\u001b[39m\u001b[38;5;132;01m{\u001b[39;00mdata[\u001b[38;5;124m'\u001b[39m\u001b[38;5;124mindexHTS\u001b[39m\u001b[38;5;124m'\u001b[39m]\u001b[38;5;132;01m}\u001b[39;00m\u001b[38;5;124m\"\u001b[39m\n\u001b[1;32m     37\u001b[0m         \u001b[38;5;28;01mif\u001b[39;00m key_EH \u001b[38;5;129;01min\u001b[39;00m hts_sub_chap:\n",
      "\u001b[0;31mKeyError\u001b[0m: 'htsno'"
     ]
    }
   ],
   "source": [
    "import query_string_db\n",
    "\n",
    "test_query = query_string_db.queryStringDb('Black swift foxes jumping jacks in uranium 235, and there will be cows, and a horse%$\"', True)\n",
    "\n",
    "test_query"
   ]
  }
 ],
 "metadata": {
  "kernelspec": {
   "display_name": "venv",
   "language": "python",
   "name": "python3"
  },
  "language_info": {
   "codemirror_mode": {
    "name": "ipython",
    "version": 3
   },
   "file_extension": ".py",
   "mimetype": "text/x-python",
   "name": "python",
   "nbconvert_exporter": "python",
   "pygments_lexer": "ipython3",
   "version": "3.10.12"
  }
 },
 "nbformat": 4,
 "nbformat_minor": 2
}
