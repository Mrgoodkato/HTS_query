{
 "cells": [
  {
   "cell_type": "code",
   "execution_count": 11,
   "metadata": {},
   "outputs": [
    {
     "name": "stdout",
     "output_type": "stream",
     "text": [
      "NoneNone:None@None\n",
      "Error connecting to database\n",
      "Port must be an integer between 0 and 65535: 'None@None'\n",
      "Failed query of record 0101\n",
      "'Connection' object has no attribute 'collection_records'\n",
      "Failed query of record 0201\n",
      "'Connection' object has no attribute 'collection_records'\n",
      "Error closing connection\n",
      "'Connection' object has no attribute 'client'\n"
     ]
    },
    {
     "data": {
      "text/plain": [
       "[]"
      ]
     },
     "execution_count": 11,
     "metadata": {},
     "output_type": "execute_result"
    }
   ],
   "source": [
    "import query_hts_db\n",
    "\n",
    "query = query_hts_db.queryHTSMulti(['0101.21.0010', '0201.10.0010'])\n",
    "\n",
    "query"
   ]
  },
  {
   "cell_type": "code",
   "execution_count": null,
   "metadata": {},
   "outputs": [],
   "source": []
  }
 ],
 "metadata": {
  "kernelspec": {
   "display_name": "venv",
   "language": "python",
   "name": "python3"
  },
  "language_info": {
   "codemirror_mode": {
    "name": "ipython",
    "version": 3
   },
   "file_extension": ".py",
   "mimetype": "text/x-python",
   "name": "python",
   "nbconvert_exporter": "python",
   "pygments_lexer": "ipython3",
   "version": "3.10.12"
  }
 },
 "nbformat": 4,
 "nbformat_minor": 2
}
