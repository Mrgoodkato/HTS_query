{
 "cells": [
  {
   "cell_type": "markdown",
   "metadata": {},
   "source": [
    "This is a notebook dedicated to testing the htsdata.json or hts parsed records in json format"
   ]
  },
  {
   "cell_type": "code",
   "execution_count": 14,
   "metadata": {},
   "outputs": [],
   "source": [
    "import json\n",
    "from pathlib import Path\n",
    "\n",
    "def loadMainJSON(path: Path) -> list[dict, any]:\n",
    "\n",
    "    if path.exists():\n",
    "        with path.open(encoding='utf-8') as file:\n",
    "            return json.loads(file.read())\n",
    "    else:\n",
    "        print(f'No file path for {path}')\n"
   ]
  },
  {
   "cell_type": "code",
   "execution_count": 16,
   "metadata": {},
   "outputs": [
    {
     "data": {
      "text/plain": [
       "2182373"
      ]
     },
     "execution_count": 16,
     "metadata": {},
     "output_type": "execute_result"
    }
   ],
   "source": [
    "file_path = Path('../db_hts/htsdata/htsdata.json')\n",
    "empty_path = Path('../db_hts/htsdata/empty_hts.json')\n",
    "\n",
    "main_file = loadMainJSON(file_path)\n",
    "\n",
    "empty_hts_records = []\n",
    "\n",
    "for record in main_file:\n",
    "    if record['htsno'] == '':\n",
    "        empty_hts_records.append(record)\n",
    "\n",
    "empty_path.write_text(json.dumps(empty_hts_records, indent=4))"
   ]
  }
 ],
 "metadata": {
  "kernelspec": {
   "display_name": "venv",
   "language": "python",
   "name": "python3"
  },
  "language_info": {
   "codemirror_mode": {
    "name": "ipython",
    "version": 3
   },
   "file_extension": ".py",
   "mimetype": "text/x-python",
   "name": "python",
   "nbconvert_exporter": "python",
   "pygments_lexer": "ipython3",
   "version": "3.12.3"
  }
 },
 "nbformat": 4,
 "nbformat_minor": 2
}
