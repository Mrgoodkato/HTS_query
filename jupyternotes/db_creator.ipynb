{
 "cells": [
  {
   "cell_type": "code",
   "execution_count": 13,
   "metadata": {},
   "outputs": [],
   "source": [
    "import json, pymongo, os, re"
   ]
  },
  {
   "cell_type": "code",
   "execution_count": 14,
   "metadata": {},
   "outputs": [],
   "source": [
    "class Connection:\n",
    "    \"\"\"Class that connects to the database creating all necessary methods for connection and closing connection, as well as the base database for adding new HTS records and the string_dict collection too\n",
    "    \"\"\"\n",
    "\n",
    "    def __init__(self, db_path: str):\n",
    "\n",
    "        self.client = pymongo.MongoClient(db_path)\n",
    "        self.db = self.client['hts']\n",
    "        self.collection_records = self.db['hts_records']\n",
    "        self.collection_string_dict = self.db['string_dict']\n",
    "        \n",
    "\n",
    "    def closeConnection(self):\n",
    "        self.client.close()\n",
    "\n",
    "def addHTSRecord(folder_path: str, record: str, collection: pymongo.collection.Collection):\n",
    "\n",
    "    test = False\n",
    "\n",
    "    with open(f'{folder_path}{record}') as sec:\n",
    "\n",
    "\n",
    "        data = json.load(sec)\n",
    "        header = re.sub(r'\\.json', '', record)\n",
    "\n",
    "        hts_record = {\n",
    "            'header': header,\n",
    "            'data': data\n",
    "        }\n",
    "\n",
    "        try:\n",
    "            collection.insert_one(hts_record)\n",
    "        except:\n",
    "            print(f'Error creating record in db for file {sec}')\n",
    "\n",
    "def addStrRecord(str_dict: list, key: str, collection: pymongo.collection.Collection):\n",
    "\n",
    "    try:\n",
    "        record = {\n",
    "            'string': key,\n",
    "            'chaps': str_dict\n",
    "        }\n",
    "        collection.insert_one(record)\n",
    "    except:\n",
    "        print(f'Error creating record in db for str_dict key: {key}')\n"
   ]
  },
  {
   "cell_type": "code",
   "execution_count": 15,
   "metadata": {},
   "outputs": [],
   "source": [
    "def createDatabase(path_records: str, path_string_dict: str, file_list: list, connection: Connection):\n",
    "\n",
    "    #Create Collection of records\n",
    "    for file in file_list:\n",
    "        addHTSRecord(path_records, file, connection.collection_records)\n",
    "    \n",
    "    #Create Collection of string_dict\n",
    "    with open(f'{path_string_dict}string_dict.json', 'r') as string_file:\n",
    "\n",
    "        string_dict_raw = json.load(string_file)\n",
    "\n",
    "        for key in string_dict_raw.keys():\n",
    "            addStrRecord(string_dict_raw[key], key, connection.collection_string_dict)\n",
    "\n",
    "    connection.closeConnection()"
   ]
  },
  {
   "cell_type": "code",
   "execution_count": 16,
   "metadata": {},
   "outputs": [],
   "source": [
    "folder_path = '../db_hts/temp/NEW_test_files/'\n",
    "string_folder_path = '../db_hts/temp/NEW_test_string_dict/'\n",
    "\n",
    "file_list = os.listdir(folder_path)\n",
    "\n",
    "connection = Connection('mongodb://127.0.0.1:27017')\n",
    "\n",
    "createDatabase(folder_path, string_folder_path, file_list, connection)"
   ]
  }
 ],
 "metadata": {
  "kernelspec": {
   "display_name": "venv",
   "language": "python",
   "name": "python3"
  },
  "language_info": {
   "codemirror_mode": {
    "name": "ipython",
    "version": 3
   },
   "file_extension": ".py",
   "mimetype": "text/x-python",
   "name": "python",
   "nbconvert_exporter": "python",
   "pygments_lexer": "ipython3",
   "version": "3.10.12"
  }
 },
 "nbformat": 4,
 "nbformat_minor": 2
}
