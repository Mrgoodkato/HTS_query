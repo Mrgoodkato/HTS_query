{
 "cells": [
  {
   "cell_type": "code",
   "execution_count": 5,
   "metadata": {},
   "outputs": [],
   "source": [
    "import pymongo\n",
    "import json\n",
    "import os\n",
    "import re\n",
    "\n",
    "client = pymongo.MongoClient(\"mongodb://localhost:27017/\")\n",
    "\n",
    "db = client['testDb']\n",
    "coll_tst_mchaps = db['manychaps']\n",
    "\n"
   ]
  },
  {
   "cell_type": "code",
   "execution_count": 6,
   "metadata": {},
   "outputs": [],
   "source": [
    "folder_path = 'test_several_json/'\n",
    "\n",
    "filenames = os.listdir(folder_path)\n",
    "\n"
   ]
  },
  {
   "cell_type": "code",
   "execution_count": 7,
   "metadata": {},
   "outputs": [],
   "source": [
    "pattern = r'\\.json'\n",
    "\n",
    "for file in filenames:\n",
    "    with open(f'{folder_path}{file}', 'r') as f:\n",
    "\n",
    "        filedata = json.loads(f.read())\n",
    "    \n",
    "    coll_tst_mchaps.insert_one({\n",
    "        'section_id': int(re.sub(pattern, '', file)),\n",
    "        'data': filedata\n",
    "    })"
   ]
  }
 ],
 "metadata": {
  "kernelspec": {
   "display_name": "venv",
   "language": "python",
   "name": "python3"
  },
  "language_info": {
   "codemirror_mode": {
    "name": "ipython",
    "version": 3
   },
   "file_extension": ".py",
   "mimetype": "text/x-python",
   "name": "python",
   "nbconvert_exporter": "python",
   "pygments_lexer": "ipython3",
   "version": "3.10.12"
  }
 },
 "nbformat": 4,
 "nbformat_minor": 2
}
