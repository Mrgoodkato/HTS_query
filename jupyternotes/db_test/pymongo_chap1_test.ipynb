{
 "cells": [
  {
   "cell_type": "code",
   "execution_count": 13,
   "metadata": {},
   "outputs": [
    {
     "name": "stdout",
     "output_type": "stream",
     "text": [
      "Collection already exists\n",
      "Collection aggregated already, 126 documents found\n"
     ]
    }
   ],
   "source": [
    "from pymongo import MongoClient\n",
    "import json\n",
    "import re\n",
    "\n",
    "client = MongoClient('mongodb://localhost:27017/')\n",
    "\n",
    "db = client['chap1']\n",
    "\n",
    "if 'chap1_data' in db.list_collection_names():\n",
    "    print('Collection already exists')\n",
    "    collection = db.get_collection('chap1_data')\n",
    "else:\n",
    "    print('Collection created')\n",
    "    collection = db.create_collection('chap1_data')\n",
    "\n",
    "with open('chapter_1.json', 'r') as file:\n",
    "    chap1_data = file.read()\n",
    "\n",
    "chap1 = json.loads(chap1_data)\n",
    "\n",
    "if collection.count_documents({}) == 0:\n",
    "    collection.insert_many(chap1)\n",
    "else:\n",
    "    print(f'Collection aggregated already, {collection.count_documents({})} documents found')"
   ]
  },
  {
   "cell_type": "code",
   "execution_count": 18,
   "metadata": {},
   "outputs": [
    {
     "name": "stdout",
     "output_type": "stream",
     "text": [
      "{'_id': ObjectId('661098251b7498a3f06e5e6e'), 'htsno': '0101.21.00.20', 'indent': '3', 'description': 'Females', 'superior': None, 'units': ['No.'], 'general': '', 'special': '', 'other': '', 'footnotes': [], 'quotaQuantity': None, 'additionalDuties': None, 'addiitionalDuties': None}\n"
     ]
    }
   ],
   "source": [
    "search_string = '0101.21.00.20'\n",
    "\n",
    "query = {'htsno': {'$regex': search_string, '$options': 'i'}}\n",
    "\n",
    "result = collection.find(query)\n",
    "\n",
    "for document in result:\n",
    "    print(document)\n"
   ]
  },
  {
   "cell_type": "code",
   "execution_count": 22,
   "metadata": {},
   "outputs": [
    {
     "name": "stdout",
     "output_type": "stream",
     "text": [
      "{'_id': ObjectId('661098251b7498a3f06e5e80'), 'htsno': '0102.29.20', 'indent': '3', 'description': 'Cows imported specially for dairy purposes', 'superior': None, 'units': [], 'general': 'Free', 'special': '', 'other': '6.6¢/kg', 'footnotes': [{'columns': ['general'], 'marker': '1', 'value': 'See 9903.88.15. ', 'type': 'endnote'}], 'quotaQuantity': None, 'additionalDuties': None, 'addiitionalDuties': None}\n",
      "{'_id': ObjectId('661098251b7498a3f06e5e91'), 'htsno': '0102.29.40.66', 'indent': '6', 'description': 'Cows', 'superior': None, 'units': ['No.', 'kg'], 'general': '', 'special': '', 'other': '', 'footnotes': [], 'quotaQuantity': None, 'additionalDuties': None, 'addiitionalDuties': None}\n"
     ]
    }
   ],
   "source": [
    "search_description = 'cows'\n",
    "\n",
    "query_desc = {'description': {'$regex': search_description, '$options': 'i'}}\n",
    "\n",
    "result_desc = collection.find(query_desc)\n",
    "\n",
    "for document in result_desc:\n",
    "    print(document)"
   ]
  }
 ],
 "metadata": {
  "kernelspec": {
   "display_name": "venv",
   "language": "python",
   "name": "python3"
  },
  "language_info": {
   "codemirror_mode": {
    "name": "ipython",
    "version": 3
   },
   "file_extension": ".py",
   "mimetype": "text/x-python",
   "name": "python",
   "nbconvert_exporter": "python",
   "pygments_lexer": "ipython3",
   "version": "3.10.12"
  }
 },
 "nbformat": 4,
 "nbformat_minor": 2
}
