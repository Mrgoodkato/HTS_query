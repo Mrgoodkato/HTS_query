{
 "cells": [
  {
   "cell_type": "code",
   "execution_count": 23,
   "metadata": {},
   "outputs": [],
   "source": [
    "#Import of test results from DB\n",
    "%run query_result_tests/result1.py"
   ]
  },
  {
   "cell_type": "code",
   "execution_count": 24,
   "metadata": {},
   "outputs": [],
   "source": [
    "def sortMappedResults(mapHierarchy: dict[str, any]) -> dict[str, any]:\n",
    "\n",
    "    #Comprehensive dictionary function to sort the items based on the 'coincidence' key\n",
    "    return dict(sorted(mapHierarchy.items(), key=lambda item: item[1]['coincidence'], reverse=True))"
   ]
  },
  {
   "cell_type": "code",
   "execution_count": 25,
   "metadata": {},
   "outputs": [],
   "source": [
    "sorted_map = sortMappedResults(result)"
   ]
  },
  {
   "cell_type": "markdown",
   "metadata": {
    "slideshow": {
     "slide_type": "slide"
    }
   },
   "source": [
    "*Function that grabs all htsno inner chapter numbers that share a keyword with the original query in their description*"
   ]
  },
  {
   "cell_type": "code",
   "execution_count": 27,
   "metadata": {},
   "outputs": [],
   "source": [
    "def grabStringsInData(sortedMap: dict[str, any]):\n",
    "\n",
    "    for chap in sortedMap.keys():\n",
    "        \n",
    "        strings = sortedMap[chap]['keyword']\n",
    "        current_data = sortedMap[chap]['data']\n",
    "        sorted_map[chap]['inner'] = []\n",
    "\n",
    "        for sub_record in current_data:\n",
    "\n",
    "            for string in strings:\n",
    "\n",
    "                if string in sub_record['description']:\n",
    "\n",
    "                    sorted_map[chap]['inner'].append(sub_record['htsno'])\n",
    "        \n",
    "        sorted_map[chap]['inner'] = countInnerOccurences(sorted_map[chap]['inner'])\n",
    "\n",
    "    return sortedMap\n",
    "\n",
    "def countInnerOccurences(sortedMapInner: dict[str, any]):\n",
    "\n",
    "    result_inner = {}\n",
    "\n",
    "    for inner in sortedMapInner:\n",
    "\n",
    "        if inner in result_inner.keys():\n",
    "            result_inner[inner] += 1\n",
    "        else: \n",
    "            result_inner[inner] = 1\n",
    "\n",
    "    result_list_inner = []\n",
    "\n",
    "    for key in result_inner.keys():\n",
    "\n",
    "        result_list_inner.append((key, result_inner[key]))\n",
    "\n",
    "    return result_list_inner\n",
    "\n",
    "result = grabStringsInData(sorted_map)"
   ]
  },
  {
   "cell_type": "code",
   "execution_count": 30,
   "metadata": {},
   "outputs": [
    {
     "data": {
      "text/plain": [
       "[('0206', 2), ('0206.90.00.40', 2)]"
      ]
     },
     "execution_count": 30,
     "metadata": {},
     "output_type": "execute_result"
    }
   ],
   "source": [
    "result['0206']['inner']"
   ]
  }
 ],
 "metadata": {
  "kernelspec": {
   "display_name": "venv",
   "language": "python",
   "name": "python3"
  },
  "language_info": {
   "codemirror_mode": {
    "name": "ipython",
    "version": 3
   },
   "file_extension": ".py",
   "mimetype": "text/x-python",
   "name": "python",
   "nbconvert_exporter": "python",
   "pygments_lexer": "ipython3",
   "version": "3.12.3"
  }
 },
 "nbformat": 4,
 "nbformat_minor": 2
}
