{
 "cells": [
  {
   "cell_type": "code",
   "execution_count": 30,
   "metadata": {},
   "outputs": [],
   "source": [
    "#Import of test results from DB\n",
    "%run query_result_tests/result1.py\n",
    "\n",
    "import re"
   ]
  },
  {
   "cell_type": "code",
   "execution_count": null,
   "metadata": {},
   "outputs": [],
   "source": [
    "punctuation_pattern = r'[!\\\"#$%&\\'()*+,-./:;<=>?@\\[\\]\\^_`{|}~—]'"
   ]
  },
  {
   "cell_type": "code",
   "execution_count": 31,
   "metadata": {},
   "outputs": [],
   "source": [
    "def sortMappedResults(mapHierarchy: dict[str, any]) -> dict[str, any]:\n",
    "\n",
    "    #Comprehensive dictionary function to sort the items based on the 'coincidence' key\n",
    "    return dict(sorted(mapHierarchy.items(), key=lambda item: item[1]['coincidence'], reverse=True))"
   ]
  },
  {
   "cell_type": "code",
   "execution_count": 32,
   "metadata": {},
   "outputs": [],
   "source": [
    "sorted_map = sortMappedResults(result)"
   ]
  },
  {
   "cell_type": "markdown",
   "metadata": {
    "slideshow": {
     "slide_type": "slide"
    }
   },
   "source": [
    "*Function that grabs all htsno inner chapter numbers that share a keyword with the original query in their description*"
   ]
  },
  {
   "cell_type": "code",
   "execution_count": 33,
   "metadata": {},
   "outputs": [],
   "source": [
    "def grabStringsInData(sortedMap: dict[str, any]):\n",
    "\n",
    "    for chap in sortedMap.keys():\n",
    "        \n",
    "        strings = sortedMap[chap]['keyword']\n",
    "        current_data = sortedMap[chap]['data']\n",
    "        sorted_map[chap]['inner'] = []\n",
    "\n",
    "        for sub_record in current_data:\n",
    "\n",
    "            for string in strings:\n",
    "                \n",
    "                pattern = re.compile(rf'{string}', re.IGNORECASE | re.MULTILINE)\n",
    "                match_pattern = pattern.search(sub_record['description'])\n",
    "\n",
    "                if match_pattern:\n",
    "\n",
    "                    sorted_map[chap]['inner'].append(sub_record['htsno'])\n",
    "        \n",
    "        sorted_map[chap]['inner'] = countInnerOccurences(sorted_map[chap]['inner'])\n",
    "\n",
    "    return sortedMap\n",
    "\n",
    "def countInnerOccurences(sortedMapInner: dict[str, any]):\n",
    "\n",
    "    result_inner = {}\n",
    "\n",
    "    for inner in sortedMapInner:\n",
    "\n",
    "        if inner in result_inner.keys():\n",
    "            result_inner[inner] += 1\n",
    "        else: \n",
    "            result_inner[inner] = 1\n",
    "\n",
    "    result_list_inner = []\n",
    "\n",
    "    for key in result_inner.keys():\n",
    "\n",
    "        result_list_inner.append((key, result_inner[key]))\n",
    "\n",
    "    return result_list_inner\n",
    "\n",
    "result = grabStringsInData(sorted_map)"
   ]
  },
  {
   "cell_type": "code",
   "execution_count": 34,
   "metadata": {},
   "outputs": [
    {
     "name": "stdout",
     "output_type": "stream",
     "text": [
      "0101 - [('0101', 2), ('0101.21.00', 1), ('0101.21.00.10', 1), ('0101.21.00.20', 1), ('0101.30.00.00', 1)] - 3\n",
      "0206 - [('0206', 2), ('0206.90.00.40', 2)] - 2\n",
      "0205 - [('0205.00.00.00', 2)] - 2\n",
      "9804 - [('9804.00.35', 1)] - 1\n",
      "9904 - [] - 1\n",
      "0102 - [('0102.29.20', 1), ('0102.29.40.66', 1)] - 1\n",
      "1901 - [] - 1\n",
      "0406 - [] - 1\n",
      "9903 - [] - 1\n"
     ]
    }
   ],
   "source": [
    "for key, val in result.items():\n",
    "    print(\n",
    "        f'{key} - {val[\"inner\"]} - {val[\"coincidence\"]}'\n",
    "        )"
   ]
  }
 ],
 "metadata": {
  "kernelspec": {
   "display_name": "venv",
   "language": "python",
   "name": "python3"
  },
  "language_info": {
   "codemirror_mode": {
    "name": "ipython",
    "version": 3
   },
   "file_extension": ".py",
   "mimetype": "text/x-python",
   "name": "python",
   "nbconvert_exporter": "python",
   "pygments_lexer": "ipython3",
   "version": "3.10.12"
  }
 },
 "nbformat": 4,
 "nbformat_minor": 2
}
