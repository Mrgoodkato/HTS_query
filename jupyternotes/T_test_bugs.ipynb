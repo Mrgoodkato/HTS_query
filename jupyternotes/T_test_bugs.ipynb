{
 "cells": [
  {
   "cell_type": "code",
   "execution_count": 7,
   "metadata": {},
   "outputs": [],
   "source": [
    "import json, re\n",
    "\n",
    "punctuation_pattern = r'[!\\\"#$%&\\'()*+,-./:;<=>?@\\[\\]\\^_`{|}~—]'\n",
    "path_to_json = '../db_hts/temp/NEW_test_files/9904.json'"
   ]
  },
  {
   "cell_type": "code",
   "execution_count": 12,
   "metadata": {},
   "outputs": [],
   "source": [
    "with open(path_to_json, 'r') as file:\n",
    "    chapter = json.load(file)\n",
    "\n",
    "for chap in chapter:\n",
    "\n",
    "    desc = re.sub(punctuation_pattern, '', chap['description']).lower()\n",
    "\n",
    "    if 'cows' in desc:\n",
    "        print(desc)"
   ]
  }
 ],
 "metadata": {
  "kernelspec": {
   "display_name": "venv",
   "language": "python",
   "name": "python3"
  },
  "language_info": {
   "codemirror_mode": {
    "name": "ipython",
    "version": 3
   },
   "file_extension": ".py",
   "mimetype": "text/x-python",
   "name": "python",
   "nbconvert_exporter": "python",
   "pygments_lexer": "ipython3",
   "version": "3.12.3"
  }
 },
 "nbformat": 4,
 "nbformat_minor": 2
}
