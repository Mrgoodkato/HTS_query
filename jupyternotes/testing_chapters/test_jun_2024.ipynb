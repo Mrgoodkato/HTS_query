{
 "cells": [
  {
   "cell_type": "markdown",
   "metadata": {},
   "source": [
    "**HELPER FUNCTIONS**"
   ]
  },
  {
   "cell_type": "code",
   "execution_count": 3,
   "metadata": {},
   "outputs": [],
   "source": [
    "import json, re\n",
    "\n",
    "def getHTSRecord(path: str) -> list[dict[str, any]]:\n",
    "\n",
    "\n",
    "    with open(path, 'r') as file:\n",
    "        return json.loads(file.read())\n",
    "    \n",
    "def checkFinalQueryState(finalRecord: str, queryState: str) -> bool:\n",
    "\n",
    "    if finalRecord == queryState:\n",
    "        return True\n",
    "    else:\n",
    "        return False"
   ]
  },
  {
   "cell_type": "markdown",
   "metadata": {},
   "source": [
    "**MAIN FUNCTIONS**"
   ]
  },
  {
   "cell_type": "code",
   "execution_count": 43,
   "metadata": {},
   "outputs": [],
   "source": [
    "def queryRecord(query: list, htsRecord: list[dict[str, any]]):\n",
    "\n",
    "    queryObj = {\n",
    "        'query': query,\n",
    "        'followup': [],\n",
    "        'records': [],\n",
    "        'finalRecord': query[len(query)-1]\n",
    "    }\n",
    "    indent = 0\n",
    "    fIndex = 0\n",
    "    currentIndex = 0\n",
    "    run = True\n",
    "\n",
    "    while run:\n",
    "\n",
    "        for index, record in enumerate(htsRecord):\n",
    "            \n",
    "            if index == (len(htsRecord) -1):\n",
    "                print('End of htsRecord')\n",
    "                run = False\n",
    "                break\n",
    "            else:\n",
    "                print(len(htsRecord), index)\n",
    "                queryObj['followup'].append(htsRecord[index+1])\n",
    "                fIndex += 1    \n",
    "            \n",
    "            queryState = queryObj['query'][currentIndex]\n",
    "\n",
    "            expression = re.compile(rf\"{queryState}\")\n",
    "\n",
    "            #Case where the current record iterated matches the current queryState (even if it is not a full match)\n",
    "            if 'htsno' in record and re.match(expression, record['htsno']):\n",
    "\n",
    "                #Check if we are at the end of the query\n",
    "                if checkFinalQueryState(queryObj['finalRecord'], queryState):\n",
    "\n",
    "                    print(f\"Found final record with description: {record['description']}\")\n",
    "                    run = False\n",
    "                    break\n",
    "\n",
    "                ##Check for the queryObj.query and add necessary changes to the queryObj\n",
    "                print(f'Found hts record with description: {record[\"description\"]}')\n",
    "                indent += 1\n",
    "                currentIndex += 1\n",
    "\n",
    "            #Case where the following record to an EH has an htsno key\n",
    "            elif (record['indent'] == indent) and ('htsno' in queryObj['followup'][fIndex-1]):\n",
    "\n",
    "                print(f'Found one EH with description: {record[\"description\"]}')\n",
    "                if re.match(expression, queryObj['followup'][fIndex-1]['htsno']):\n",
    "                    print(f\"Found following htsno after EH: {queryObj['followup'][fIndex-1]['description']}\")\n",
    "\n",
    "\n",
    "\n"
   ]
  },
  {
   "cell_type": "code",
   "execution_count": 45,
   "metadata": {},
   "outputs": [
    {
     "name": "stdout",
     "output_type": "stream",
     "text": [
      "12 0\n",
      "Found hts record with description: Live horses, asses, mules and hinnies:\n",
      "12 1\n",
      "Found one EH with description: Horses:\n",
      "Found following htsno after EH: Purebred breeding animals\n",
      "12 2\n",
      "Found hts record with description: Purebred breeding animals\n",
      "12 3\n",
      "Found hts record with description: Males\n",
      "12 4\n",
      "Found one EH with description: Females\n",
      "12 5\n",
      "12 6\n",
      "Found one EH with description: Imported for immediate slaughter\n",
      "12 7\n",
      "Found one EH with description: Other\n",
      "12 8\n",
      "12 9\n",
      "12 10\n",
      "End of htsRecord\n"
     ]
    }
   ],
   "source": [
    "query = [\"0101\", \"0101.21\", \"0101.21.00\", \"0101.21.00.10\"]\n",
    "htsRecord = getHTSRecord('../../db_hts/temp/NEW_final_json_files/0101.json')\n",
    "\n",
    "queryRecord(query, htsRecord)    "
   ]
  },
  {
   "cell_type": "code",
   "execution_count": null,
   "metadata": {},
   "outputs": [],
   "source": []
  }
 ],
 "metadata": {
  "kernelspec": {
   "display_name": "venv",
   "language": "python",
   "name": "python3"
  },
  "language_info": {
   "codemirror_mode": {
    "name": "ipython",
    "version": 3
   },
   "file_extension": ".py",
   "mimetype": "text/x-python",
   "name": "python",
   "nbconvert_exporter": "python",
   "pygments_lexer": "ipython3",
   "version": "3.10.12"
  }
 },
 "nbformat": 4,
 "nbformat_minor": 2
}
