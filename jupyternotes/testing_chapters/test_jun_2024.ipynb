{
 "cells": [
  {
   "cell_type": "code",
   "execution_count": 18,
   "metadata": {},
   "outputs": [],
   "source": [
    "import json, re\n",
    "\n",
    "def getHTSRecord(path: str) -> list[dict[str, any]]:\n",
    "\n",
    "\n",
    "    with open(path, 'r') as file:\n",
    "        return json.loads(file.read())\n",
    "\n",
    "\n",
    "def queryRecord(query: list, htsRecord: list[dict[str, any]]):\n",
    "\n",
    "    queryObj = {\n",
    "        'query': query,\n",
    "        'currentIndex': 0,\n",
    "        'indent': 0,\n",
    "        'followup': [],\n",
    "        'fIndex': 0,\n",
    "        'records': []\n",
    "    }\n",
    "\n",
    "    while True:\n",
    "\n",
    "        for index, record in enumerate(htsRecord):\n",
    "            \n",
    "            try:\n",
    "                queryObj['followup'].append(htsRecord[index+1])\n",
    "                queryObj['fIndex'] += 1\n",
    "            except Exception as e:\n",
    "                print('End of htsRecord')\n",
    "            \n",
    "            expression = re.compile(rf\"{queryObj['query'][queryObj['currentIndex']]}\")\n",
    "\n",
    "            if 'htsno' in record and re.match(expression, record['htsno']):\n",
    "\n",
    "                ##CHECK FOR THE queryObj.query and add necessary changes to the queryObj\n",
    "                print(f'Found hts record with description: {record[\"description\"]}')\n",
    "                queryObj['indent'] += 1\n",
    "                queryObj['currentIndex'] += 1\n",
    "\n",
    "            elif (record['indent'] == queryObj['indent']) and ('htsno' in queryObj['followup'][queryObj['fIndex']-1]):\n",
    "                \n",
    "                print(f'Found one EH with description: {record[\"description\"]}')\n",
    "            \n",
    "        break\n",
    "\n",
    "\n",
    "\n"
   ]
  },
  {
   "cell_type": "code",
   "execution_count": 19,
   "metadata": {},
   "outputs": [
    {
     "name": "stdout",
     "output_type": "stream",
     "text": [
      "Found hts record with description: Purebred breeding animals\n",
      "Found hts record with description: Males\n",
      "Found one EH with description: Other\n",
      "Found one EH with description: Imported for immediate slaughter\n",
      "End of htsRecord\n",
      "Found one EH with description: Other\n"
     ]
    }
   ],
   "source": [
    "query = [\"0101.21\", \"0101.21.00\", \"0101.21.00.10\"]\n",
    "htsRecord = getHTSRecord('../../db_hts/temp/NEW_final_json_files/0101.json')\n",
    "\n",
    "queryRecord(query, htsRecord)    "
   ]
  },
  {
   "cell_type": "code",
   "execution_count": null,
   "metadata": {},
   "outputs": [],
   "source": []
  }
 ],
 "metadata": {
  "kernelspec": {
   "display_name": "venv",
   "language": "python",
   "name": "python3"
  },
  "language_info": {
   "codemirror_mode": {
    "name": "ipython",
    "version": 3
   },
   "file_extension": ".py",
   "mimetype": "text/x-python",
   "name": "python",
   "nbconvert_exporter": "python",
   "pygments_lexer": "ipython3",
   "version": "3.10.12"
  }
 },
 "nbformat": 4,
 "nbformat_minor": 2
}
