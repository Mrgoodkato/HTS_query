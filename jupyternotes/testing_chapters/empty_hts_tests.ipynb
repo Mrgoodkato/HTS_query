{
 "cells": [
  {
   "cell_type": "code",
   "execution_count": 8,
   "metadata": {
    "metadata": {}
   },
   "outputs": [],
   "source": [
    "import json, os\n",
    "\n",
    "def openJSON(path: str) -> list[dict, any]:\n",
    "    \"\"\"Function that opens a JSON file and returns that file as a list\n",
    "\n",
    "    Args:\n",
    "        path (str): Path to the JSON file\n",
    "\n",
    "    Returns:\n",
    "        list: Returns a list object with the JSON information\n",
    "    \"\"\"\n",
    "\n",
    "    with open(path, 'r') as file:\n",
    "        result = json.loads(file.read())\n",
    "    \n",
    "    return result\n",
    "\n",
    "def grabRelevantRecordInfo(record: dict[str, any] | str) -> dict[str, any]:\n",
    "\n",
    "    if record['indent'] is None:\n",
    "        return record\n",
    "\n",
    "    return {\n",
    "        'htsno': record['htsno'],\n",
    "        'indent': record['indent'],\n",
    "        'description': record['description'],\n",
    "    }\n"
   ]
  },
  {
   "cell_type": "code",
   "execution_count": 9,
   "metadata": {
    "metadata": {}
   },
   "outputs": [],
   "source": [
    "path_files = '../../db_hts/temp/NEW_test_files'\n",
    "files = os.listdir(path_files)\n",
    "\n",
    "chaps_empty = {}\n",
    "\n",
    "for file in files:\n",
    "    chap = openJSON(f'{path_files}/{file}')\n",
    "    \n",
    "    for index, record in enumerate(chap):\n",
    "        if record['htsno'] == '':\n",
    "            chaps_empty[file] = []        \n",
    "            if index <= 0:\n",
    "                prevhts = {\"indent\": None}\n",
    "            else:\n",
    "                prevhts = chap[index-1]\n",
    "\n",
    "            if index >= (len(chap)-1):\n",
    "                nexthts = {\"indent\": None}\n",
    "            else:\n",
    "                nexthts = chap[index+1]\n",
    "            \n",
    "\n",
    "            chaps_empty[file].append({\n",
    "                'prevhts': grabRelevantRecordInfo(prevhts),\n",
    "                'nohts_rec': grabRelevantRecordInfo(record),\n",
    "                'nexthts': grabRelevantRecordInfo(nexthts)\n",
    "            })"
   ]
  },
  {
   "cell_type": "code",
   "execution_count": 10,
   "metadata": {
    "metadata": {}
   },
   "outputs": [],
   "source": [
    "with open('test_file.json', 'w') as test_file:\n",
    "    json.dump(chaps_empty, test_file, indent=4)"
   ]
  },
  {
   "cell_type": "code",
   "execution_count": null,
   "metadata": {},
   "outputs": [],
   "source": []
  }
 ],
 "metadata": {
  "kernelspec": {
   "display_name": "venv",
   "language": "python",
   "name": "python3"
  },
  "language_info": {
   "codemirror_mode": {
    "name": "ipython",
    "version": 3
   },
   "file_extension": ".py",
   "mimetype": "text/x-python",
   "name": "python",
   "nbconvert_exporter": "python",
   "pygments_lexer": "ipython3",
   "version": "3.12.3"
  }
 },
 "nbformat": 4,
 "nbformat_minor": 2
}
