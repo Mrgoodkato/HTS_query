{
 "cells": [
  {
   "cell_type": "code",
   "execution_count": null,
   "id": "4940d6cf",
   "metadata": {},
   "outputs": [],
   "source": [
    "import pandas as pd\n",
    "import openpyxl as op\n",
    "from openpyxl.styles import Font\n",
    "import re\n",
    "\n",
    "path = '../test_files/Magaya Upload - CWI 091223.xlsx'"
   ]
  },
  {
   "cell_type": "code",
   "execution_count": null,
   "id": "cbd3d489",
   "metadata": {},
   "outputs": [],
   "source": [
    "def htsRead(path):\n",
    "    df = pd.read_excel(path)\n",
    "    try:\n",
    "        tariffs = df['Tariff #']\n",
    "    except:\n",
    "        return 'Not a valid HTS file'\n",
    "\n",
    "    index = 1\n",
    "    error = False\n",
    "    counter = 0\n",
    "\n",
    "    read_result = {\n",
    "        'Printout': [],\n",
    "        'Tariffs-affected': [],\n",
    "        'Final-df': pd.DataFrame(columns=df.columns.to_list())\n",
    "    }\n",
    "\n",
    "    for tariff in tariffs:\n",
    "        index+=1\n",
    "        regx = re.compile('(?:(?:[\\d]{4}\\.[\\d]{2}\\.(?:[\\d]{2}|[\\d]{4}))(?:$|,))|(?:(?:[\\d]{8}|[\\d]{10})(?:$|,))')\n",
    "        no_space_tariff = re.sub(' ', '', str(tariff))\n",
    "        checkTariff = re.sub(regx, '', str(no_space_tariff))\n",
    "        if not checkTariff == '':\n",
    "            error = True\n",
    "            read_result['Final-df'].loc[counter] = df.loc[index-1]\n",
    "            counter += 1\n",
    "            read_result['Tariffs-affected'].append(index)\n",
    "            read_result['Printout'].append('{})Tariff {} has an issue at row {}'.format(counter, tariff, index))           \n",
    "\n",
    "    if not error:\n",
    "        read_result['Printout'].append('No tariffs presented errors')\n",
    "\n",
    "\n",
    "    return read_result\n",
    "\n",
    "def highlightExcel(path, rows):\n",
    "    wb = op.load_workbook(filename=path)\n",
    "\n",
    "    sheet = wb.active\n",
    "\n",
    "    for row in rows:\n",
    "        cell = sheet['K{}'.format(row)]\n",
    "        cell.font = Font(color=\"FF0000\")\n",
    "\n",
    "    wb.save('processed_file.xlsx')"
   ]
  },
  {
   "cell_type": "code",
   "execution_count": null,
   "id": "762e5136",
   "metadata": {},
   "outputs": [],
   "source": [
    "result = htsRead(path)\n",
    "\n",
    "result"
   ]
  },
  {
   "cell_type": "code",
   "execution_count": null,
   "id": "0a99badf",
   "metadata": {},
   "outputs": [],
   "source": [
    "highlight = highlightExcel(path, [961, 962, 963, 964, 965, 966, 967, 968, 969, 970, 971, 972, 973, 974, 975])"
   ]
  }
 ],
 "metadata": {
  "kernelspec": {
   "display_name": "Python 3 (ipykernel)",
   "language": "python",
   "name": "python3"
  },
  "language_info": {
   "codemirror_mode": {
    "name": "ipython",
    "version": 3
   },
   "file_extension": ".py",
   "mimetype": "text/x-python",
   "name": "python",
   "nbconvert_exporter": "python",
   "pygments_lexer": "ipython3",
   "version": "3.10.12"
  }
 },
 "nbformat": 4,
 "nbformat_minor": 5
}
