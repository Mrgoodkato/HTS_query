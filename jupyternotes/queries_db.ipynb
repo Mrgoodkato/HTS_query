{
 "cells": [
  {
   "cell_type": "code",
   "execution_count": null,
   "metadata": {},
   "outputs": [],
   "source": [
    "import pymongo\n",
    "from bson import ObjectId"
   ]
  },
  {
   "cell_type": "markdown",
   "metadata": {},
   "source": [
    "Connection to MongoDB"
   ]
  },
  {
   "cell_type": "code",
   "execution_count": null,
   "metadata": {},
   "outputs": [],
   "source": [
    "class Connection:\n",
    "    \"\"\"Class that connects to the database creating all necessary methods for connection and closing connection, as well as the base database for adding new HTS records and the string_dict collection too\n",
    "    \"\"\"\n",
    "\n",
    "    def __init__(self, db_path: str):\n",
    "        \"\"\"_init_ function of the class, defines the connection variables\n",
    "\n",
    "        Args:\n",
    "            db_path (str): Path to the database connection on MongoDB\n",
    "        \"\"\"\n",
    "\n",
    "        self.client = pymongo.MongoClient(db_path)\n",
    "        self.db = self.client['hts']\n",
    "        self.collection_records = self.db['hts_records']\n",
    "        self.collection_string_dict = self.db['string_dict']"
   ]
  },
  {
   "cell_type": "markdown",
   "metadata": {},
   "source": [
    "Definition of pipelines and criterias for pymongo queries"
   ]
  },
  {
   "cell_type": "code",
   "execution_count": null,
   "metadata": {},
   "outputs": [],
   "source": [
    "def pipelineHTSSearch(hts_chap_parsed: str):\n",
    "\n",
    "    criteria = {'header': hts_chap_parsed}\n",
    "\n",
    "    pipeline = [\n",
    "        {\n",
    "            '$match': criteria\n",
    "        },\n",
    "        {\n",
    "            '$unwind': '$data'\n",
    "        },\n",
    "        \n",
    "    ]"
   ]
  },
  {
   "cell_type": "markdown",
   "metadata": {},
   "source": [
    "FUnction definition for executing the queries with the Connection class"
   ]
  },
  {
   "cell_type": "code",
   "execution_count": null,
   "metadata": {},
   "outputs": [],
   "source": [
    "def queryHTS(pipeline: list, connection: pymongo.collection.Collection):\n",
    "\n"
   ]
  }
 ],
 "metadata": {
  "kernelspec": {
   "display_name": "venv",
   "language": "python",
   "name": "python3"
  },
  "language_info": {
   "name": "python",
   "version": "3.10.12"
  }
 },
 "nbformat": 4,
 "nbformat_minor": 2
}
