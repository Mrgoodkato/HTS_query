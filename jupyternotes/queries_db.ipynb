{
 "cells": [
  {
   "cell_type": "code",
   "execution_count": null,
   "metadata": {},
   "outputs": [],
   "source": [
    "import pymongo, re\n",
    "from bson import ObjectId"
   ]
  },
  {
   "cell_type": "markdown",
   "metadata": {},
   "source": [
    "Connection to MongoDB"
   ]
  },
  {
   "cell_type": "code",
   "execution_count": null,
   "metadata": {},
   "outputs": [],
   "source": [
    "class Connection:\n",
    "    \"\"\"Class that connects to the database creating all necessary methods for connection and closing connection, as well as the base database for adding new HTS records and the string_dict collection too\n",
    "    \"\"\"\n",
    "\n",
    "    def __init__(self, db_path: str):\n",
    "        \"\"\"_init_ function of the class, defines the connection variables\n",
    "\n",
    "        Args:\n",
    "            db_path (str): Path to the database connection on MongoDB\n",
    "        \"\"\"\n",
    "\n",
    "        self.client = pymongo.MongoClient(db_path)\n",
    "        self.db = self.client['hts']\n",
    "        self.collection_records = self.db['hts_records']\n",
    "        self.collection_string_dict = self.db['string_dict']"
   ]
  },
  {
   "cell_type": "markdown",
   "metadata": {},
   "source": [
    "Definition of pipelines and criterias for pymongo queries, as well as conversion of the hts query string"
   ]
  },
  {
   "cell_type": "markdown",
   "metadata": {},
   "source": [
    "-Here are the methods to process the string input from user, as well as patterns created:"
   ]
  },
  {
   "cell_type": "code",
   "execution_count": null,
   "metadata": {},
   "outputs": [],
   "source": [
    "#Patterns to clean up and organize input of HTS number from user\n",
    "remove_punctuation = r'[!\\\"#$%&\\'()*+,-./:;<=>?@\\[\\]\\^_`{|}~—]'\n",
    "gather_hts_number = [\n",
    "    (\n",
    "        r'(^[\\d]{4})([\\d]{2})([\\d]{2})([\\d]{2})$', 'Complete_record'\n",
    "    ),\n",
    "    (\n",
    "        r'(^[\\d]{4})([\\d]{2})([\\d]{2})$', 'Base_semifull'\n",
    "    ),\n",
    "    (\n",
    "        r'(^[\\d]{4})([\\d]{2})$', 'Base_subrecord'\n",
    "    ),\n",
    "    (\n",
    "        r'(^[\\d]{4})$', 'Base_chapter'\n",
    "    )\n",
    "]\n",
    "\n",
    "def processString(test_string: str):\n",
    "    \"\"\"Processes the string using the patterns for removing symbols and grouping the numbers according HTS syntax\n",
    "\n",
    "    Args:\n",
    "        test_string (str): Test string HTS number from user\n",
    "\n",
    "    Returns:\n",
    "        dict: Creates an object with 'type' of query and 'groups' Match object with the HTS grouped\n",
    "    \"\"\"\n",
    "\n",
    "    string_no_symbols = re.sub(remove_punctuation, '', test_string)\n",
    "\n",
    "    for pattern in gather_hts_number:\n",
    "\n",
    "        matched_str = re.match(pattern=pattern[0], string=string_no_symbols)\n",
    "\n",
    "        if matched_str:\n",
    "            return {\n",
    "                'type': pattern[1],\n",
    "                'groups': matched_str\n",
    "            }\n",
    "        \n",
    "def processGroups(processed_str: dict):\n",
    "    \"\"\"Processes the groups from the originally processed string to add the HTS numbers for further database query\n",
    "\n",
    "    Args:\n",
    "        processed_str (dict): Object with the type and groups originally gathered from user input\n",
    "\n",
    "    Returns:\n",
    "        dict: Returns an object with 'type', 'main_group' and 'sub_groups' for DB query\n",
    "    \"\"\"\n",
    "\n",
    "    query_chap = processed_str['groups'].group(1)\n",
    "    groups = gatherGroups(processed_str['groups'])\n",
    "    \n",
    "    if len(groups) == 0:\n",
    "        return {\n",
    "            'type': processed_str['type'],\n",
    "            'main_group': query_chap\n",
    "        }\n",
    "    else:\n",
    "        return {\n",
    "            'type': processed_str['type'],\n",
    "            'main_group': query_chap,\n",
    "            'sub_groups': groups\n",
    "        }\n",
    "\n",
    "\n",
    "def gatherGroups(groups: re.Match):\n",
    "    \"\"\"Helper method for the processGroups() that formats the HTS subrecords adding the previous numbers for database query\n",
    "\n",
    "    Args:\n",
    "        groups (re.Match): Match object containing each individual sub_record from user initial input\n",
    "\n",
    "    Returns:\n",
    "        list: Returns a list of hts sub_records for DB query\n",
    "    \"\"\"\n",
    "\n",
    "    list_of_groups = []\n",
    "    previous_group = ''\n",
    "    first_run = True\n",
    "\n",
    "    for i in range(1, len(groups.groups()) + 1):\n",
    "\n",
    "        if first_run:\n",
    "            previous_group = groups.group(i)\n",
    "            first_run = False\n",
    "        else:\n",
    "            result = previous_group + '.' + groups.group(i)\n",
    "            list_of_groups.append(result)\n",
    "            previous_group = previous_group + '.' + groups.group(i)\n",
    "\n",
    "    return list_of_groups\n"
   ]
  },
  {
   "cell_type": "code",
   "execution_count": null,
   "metadata": {},
   "outputs": [],
   "source": [
    "def createQueryGroups(test_list: list):\n",
    "    \"\"\"Main function that creates the query groups for DB query as a list of objects (for bulk query of several records)\n",
    "\n",
    "    Args:\n",
    "        test_list (list): List of strings or string in single element list containing raw input from user for hts query\n",
    "\n",
    "    Returns:\n",
    "        list: Returns a list of resulting objects with type of query, main chapter, and sub_records if applicable for DB query\n",
    "    \"\"\"\n",
    "\n",
    "    list_of_results = []\n",
    "\n",
    "    for element in test_list:\n",
    "        string_processed = processString(element)\n",
    "        groups_processed = processGroups(string_processed)\n",
    "        list_of_results.append(groups_processed)\n",
    "        \n",
    "    return list_of_results"
   ]
  },
  {
   "cell_type": "markdown",
   "metadata": {},
   "source": [
    "FUnction definition for executing the queries with the Connection class"
   ]
  },
  {
   "cell_type": "code",
   "execution_count": null,
   "metadata": {},
   "outputs": [],
   "source": []
  }
 ],
 "metadata": {
  "kernelspec": {
   "display_name": "venv",
   "language": "python",
   "name": "python3"
  },
  "language_info": {
   "codemirror_mode": {
    "name": "ipython",
    "version": 3
   },
   "file_extension": ".py",
   "mimetype": "text/x-python",
   "name": "python",
   "nbconvert_exporter": "python",
   "pygments_lexer": "ipython3",
   "version": "3.10.12"
  }
 },
 "nbformat": 4,
 "nbformat_minor": 2
}
