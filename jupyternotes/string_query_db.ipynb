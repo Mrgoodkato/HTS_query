{
 "cells": [
  {
   "cell_type": "code",
   "execution_count": null,
   "metadata": {},
   "outputs": [],
   "source": [
    "import pymongo\n",
    "from bson import ObjectId"
   ]
  },
  {
   "cell_type": "code",
   "execution_count": null,
   "metadata": {},
   "outputs": [],
   "source": [
    "class Connection:\n",
    "    \"\"\"Class that connects to the database creating all necessary methods for connection and closing connection, as well as the base database for adding new HTS records and the string_dict collection too\n",
    "    \"\"\"\n",
    "\n",
    "    def __init__(self, db_path: str):\n",
    "        \"\"\"_init_ function of the class, defines the connection variables\n",
    "\n",
    "        Args:\n",
    "            db_path (str): Path to the database connection on MongoDB\n",
    "        \"\"\"\n",
    "\n",
    "        self.client = pymongo.MongoClient(db_path)\n",
    "        self.db = self.client['hts']\n",
    "        self.collection_records = self.db['hts_records']\n",
    "        self.collection_string_dict = self.db['string_dict']"
   ]
  },
  {
   "cell_type": "code",
   "execution_count": null,
   "metadata": {},
   "outputs": [],
   "source": [
    "#Patterns to clean up and organize input of HTS number from user\n",
    "remove_punctuation = r'[!\\\"#$%&\\'()*+,-./:;<=>?@\\[\\]\\^_`{|}~—]'"
   ]
  },
  {
   "cell_type": "code",
   "execution_count": null,
   "metadata": {},
   "outputs": [],
   "source": []
  }
 ],
 "metadata": {
  "kernelspec": {
   "display_name": "venv",
   "language": "python",
   "name": "python3"
  },
  "language_info": {
   "name": "python",
   "version": "3.10.12"
  }
 },
 "nbformat": 4,
 "nbformat_minor": 2
}
