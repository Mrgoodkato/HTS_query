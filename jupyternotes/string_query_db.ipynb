{
 "cells": [
  {
   "cell_type": "code",
   "execution_count": 87,
   "metadata": {},
   "outputs": [],
   "source": [
    "import pymongo, re\n",
    "from bson import ObjectId\n",
    "\n",
    "%run ../.env/credentialsDB.py"
   ]
  },
  {
   "cell_type": "code",
   "execution_count": 88,
   "metadata": {},
   "outputs": [],
   "source": [
    "class Connection:\n",
    "    \"\"\"Class that connects to the database creating all necessary methods for connection and closing connection, as well as the base database for adding new HTS records and the string_dict collection too\n",
    "    \"\"\"\n",
    "\n",
    "    def __init__(self, db_path: str):\n",
    "        \"\"\"_init_ function of the class, defines the connection variables\n",
    "\n",
    "        Args:\n",
    "            db_path (str): Path to the database connection on MongoDB\n",
    "        \"\"\"\n",
    "\n",
    "        self.client = pymongo.MongoClient(db_path)\n",
    "        self.db = self.client['hts']\n",
    "        self.collection_records = self.db['hts_records']\n",
    "        self.collection_string_dict = self.db['string_dict']\n",
    "\n",
    "    def closeConnection(self):\n",
    "        \"\"\"Close connection function, closes current connection created in the Connection class\n",
    "        \"\"\"\n",
    "        self.client.close()"
   ]
  },
  {
   "cell_type": "code",
   "execution_count": 89,
   "metadata": {},
   "outputs": [],
   "source": [
    "#Patterns to clean up and organize input of HTS number from user\n",
    "remove_punctuation = r'[!\\\"#$%&\\'()*+,-./:;<=>?@\\[\\]\\^_`{|}~—]'\n",
    "\n",
    "key_words = [\"a\",\"about\",\"above\",\"after\",\"again\",\"against\",\"all\",\"am\",\"an\",\"and\",\"any\",\"are\",\"aren't\",\"as\",\"at\",\"be\",\"because\",\"been\",\"before\",\"being\",\"below\",\"between\",\"both\",\"but\",\"by\",\"can't\",\"cannot\",\"could\",\"couldn't\",\"did\",\"didn't\",\"do\",\"does\",\"doesn't\",\"doing\",\"don't\",\"down\",\"during\",\"each\",\"few\",\"for\",\"from\",\"further\",\"had\",\"hadn't\",\"has\",\"hasn't\",\"have\",\"haven't\",\"having\",\"he\",\"he'd\",\"he'll\",\"he's\",\"her\",\"here\",\"here's\",\"hers\",\"herself\",\"him\",\"himself\",\"his\",\"how\",\"how's\",\"i\",\"i'd\",\"i'll\",\"i'm\",\"i've\",\"if\",\"in\",\"into\",\"is\",\"isn't\",\"it\",\"it's\",\"its\",\"itself\",\"let's\",\"me\",\"more\",\"most\",\"mustn't\",\"my\",\"myself\",\"no\",\"nor\",\"not\",\"of\",\"off\",\"on\",\"once\",\"only\",\"or\",\"other\",\"ought\",\"our\",\"ours\",\"ourselves\",\"out\",\"over\",\"own\",\"same\",\"shan't\",\"she\",\"she'd\",\"she'll\",\"she's\",\"should\",\"shouldn't\",\"so\",\"some\",\"such\",\"than\",\"that\",\"that's\",\"the\",\"their\",\"theirs\",\"them\",\"themselves\",\"then\",\"there\",\"there's\",\"these\",\"they\",\"they'd\",\"they'll\",\"they're\",\"they've\",\"this\",\"those\",\"through\",\"to\",\"too\",\"under\",\"until\",\"up\",\"very\",\"was\",\"wasn't\",\"we\",\"we'd\",\"we'll\",\"we're\",\"we've\",\"were\",\"weren't\",\"what\",\"what's\",\"when\",\"when's\",\"where\",\"where's\",\"which\",\"while\",\"who\",\"who's\",\"whom\",\"why\",\"why's\",\"with\",\"won't\",\"would\",\"wouldn't\",\"you\",\"you'd\",\"you'll\",\"you're\",\"you've\",\"your\",\"yours\",\"yourself\",\"yourselves\"]"
   ]
  },
  {
   "cell_type": "markdown",
   "metadata": {},
   "source": [
    "Functions that process the initial string query:"
   ]
  },
  {
   "cell_type": "code",
   "execution_count": 90,
   "metadata": {},
   "outputs": [],
   "source": [
    "#Helper function for string manipulation\n",
    "def checkKeyWords(string: str) -> bool:\n",
    "    \"\"\"Checks against the keywords list for any matches in the string input\n",
    "\n",
    "    Args:\n",
    "        string (str): String that will be checked\n",
    "\n",
    "    Returns:\n",
    "        bool: True if the string does not coincide with the list, False if there is a match\n",
    "    \"\"\"\n",
    "\n",
    "    for keyword in key_words:\n",
    "        match = re.search(rf'^{keyword}$', string=string)\n",
    "        if(match):\n",
    "            return False\n",
    "    \n",
    "    return True\n"
   ]
  },
  {
   "cell_type": "code",
   "execution_count": 91,
   "metadata": {},
   "outputs": [],
   "source": [
    "#Function to process the string query\n",
    "def queryStringProcessing(string: str) -> list[str]:\n",
    "    \"\"\"Function to process and normalize the query string in order to get an array of strings using the checkKeyWords method to remove all banned keywords from the query and punctuation signs\n",
    "\n",
    "    Args:\n",
    "        string (str): Query string input\n",
    "\n",
    "    Returns:\n",
    "        list: List of strings in the original input after processing with no punctuation or banned keywords\n",
    "    \"\"\"\n",
    "\n",
    "    list_string = string.split(' ')\n",
    "    result_string = []\n",
    "\n",
    "    for st in list_string:\n",
    "\n",
    "        normal_string = re.sub(remove_punctuation, '', st.lower())\n",
    "        if(checkKeyWords(normal_string)):\n",
    "            \n",
    "            result_string.append(normal_string) \n",
    "\n",
    "    \n",
    "    return result_string\n"
   ]
  },
  {
   "cell_type": "code",
   "execution_count": 92,
   "metadata": {},
   "outputs": [
    {
     "data": {
      "text/plain": [
       "['hola', 'mundo', 'como', 'estas', 'bien', 'aiming']"
      ]
     },
     "execution_count": 92,
     "metadata": {},
     "output_type": "execute_result"
    }
   ],
   "source": [
    "#Testing\n",
    "queryStringProcessing('Hola mundo ourselves como estas bien these!, AIMING.')"
   ]
  },
  {
   "cell_type": "markdown",
   "metadata": {},
   "source": [
    "Functions that process the query list of keywords parsed and query the DB:"
   ]
  },
  {
   "cell_type": "code",
   "execution_count": 93,
   "metadata": {},
   "outputs": [],
   "source": [
    "#Helper functions for db document manipulation:\n",
    "def processRawQuery(raw_results: list[dict[str, any]]) -> list[dict[str, any]]:\n",
    "    \"\"\"Function that removes all null value keys from the original raw_query on the document gathered from the db.\n",
    "\n",
    "    Args:\n",
    "        raw_results (list[dict[str, any]]): Raw list of documents gathered on the first query of the db with the main and sub_groups\n",
    "\n",
    "    Returns:\n",
    "        list[dict[str, any]]: Returns a list of documents parsed without empty keys for the final result of query\n",
    "    \"\"\"\n",
    "\n",
    "    processed_result = []\n",
    "\n",
    "    for result in raw_results:\n",
    "\n",
    "        new_result = {}\n",
    "\n",
    "        for key in result.keys():\n",
    "\n",
    "            if result[key]:\n",
    "                \n",
    "                new_result[key] = result[key]\n",
    "        \n",
    "        processed_result.append(new_result)\n",
    "\n",
    "    return processed_result"
   ]
  },
  {
   "cell_type": "code",
   "execution_count": 98,
   "metadata": {},
   "outputs": [],
   "source": [
    "def mapStringQuery(query: list, str_collection: pymongo.collection.Collection) -> dict[str, any]:\n",
    "\n",
    "    queryMap = {\n",
    "        'map': [],\n",
    "        'query': []\n",
    "    }\n",
    "\n",
    "    for word in query:\n",
    "\n",
    "        document = str_collection.find_one({'string': word})\n",
    "\n",
    "        if document:\n",
    "            queryMap['map'].extend(document['chaps'])\n",
    "            queryMap['query'].append(\n",
    "                {\n",
    "                    'keyword': word,\n",
    "                    'record_ids': document['chaps'] \n",
    "                }\n",
    "            )\n",
    "\n",
    "    #REMOVES THE DUPLICATES IN THE LIST\n",
    "    queryMap['map'] = list(dict.fromkeys(queryMap['map']))\n",
    "\n",
    "    return queryMap\n",
    "\n",
    "def mapHierarchy(queryMap: dict, hts_collection: pymongo.collection.Collection) -> dict[str, any]:\n",
    "\n",
    "    mapCoincidences = {}\n",
    "\n",
    "    for query in queryMap['query']:\n",
    "        \n",
    "        for chap in queryMap['map']:\n",
    "\n",
    "            object_id = ObjectId(chap)\n",
    "            hts_document = hts_collection.find_one({'_id': object_id})\n",
    "            header = hts_document['header']\n",
    "\n",
    "            if(chap in query['record_ids']):\n",
    "                \n",
    "                if(chap in mapCoincidences.keys()):\n",
    "                    mapCoincidences[header]['keyword'].append(query['keyword'])\n",
    "                    mapCoincidences[header]['coincidence'] =  mapCoincidences[header]['coincidence'] + 1\n",
    "                else:\n",
    "                    mapCoincidences[header] = {\n",
    "                        'coincidence': 1,\n",
    "                        'keyword': [query['keyword']],\n",
    "                    }\n",
    "    \n",
    "    return mapCoincidences\n",
    "\n",
    "#def gatherInnerCoincidences(data: list[dict[str, any]], keyword: str) -> list[dict[str, any]]:\n",
    "\n",
    "\n",
    "\n"
   ]
  },
  {
   "cell_type": "code",
   "execution_count": 101,
   "metadata": {},
   "outputs": [
    {
     "data": {
      "text/plain": [
       "{'0105': {'coincidence': 1, 'keyword': ['purebred']},\n",
       " '0102': {'coincidence': 1, 'keyword': ['purebred']},\n",
       " '9813': {'coincidence': 1, 'keyword': ['breeding']},\n",
       " '0103': {'coincidence': 1, 'keyword': ['purebred']},\n",
       " '0101': {'coincidence': 1, 'keyword': ['purebred']}}"
      ]
     },
     "execution_count": 101,
     "metadata": {},
     "output_type": "execute_result"
    }
   ],
   "source": [
    "#Testing\n",
    "connection = Connection(f'{PATH_DB}{USER_DB}:{PW_DB}@{CLUSTER_DB}')\n",
    "query_test = ['breeding', 'purebred']\n",
    "query_map = mapStringQuery(query_test, connection.collection_string_dict)\n",
    "map_hierarchy = mapHierarchy(query_map, connection.collection_records)\n",
    "connection.closeConnection()\n",
    "\n",
    "map_hierarchy"
   ]
  }
 ],
 "metadata": {
  "kernelspec": {
   "display_name": "venv",
   "language": "python",
   "name": "python3"
  },
  "language_info": {
   "codemirror_mode": {
    "name": "ipython",
    "version": 3
   },
   "file_extension": ".py",
   "mimetype": "text/x-python",
   "name": "python",
   "nbconvert_exporter": "python",
   "pygments_lexer": "ipython3",
   "version": "3.10.12"
  }
 },
 "nbformat": 4,
 "nbformat_minor": 2
}
