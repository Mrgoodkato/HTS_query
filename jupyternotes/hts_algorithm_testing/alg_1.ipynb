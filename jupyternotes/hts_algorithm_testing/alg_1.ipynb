{
 "cells": [
  {
   "cell_type": "code",
   "execution_count": 83,
   "metadata": {},
   "outputs": [],
   "source": [
    "import os, json, re    "
   ]
  },
  {
   "cell_type": "code",
   "execution_count": 84,
   "metadata": {},
   "outputs": [],
   "source": [
    "def importJSONFiles(files: list, path: str) -> list[dict[str, any]]:\n",
    "\n",
    "    hts_data = []\n",
    "\n",
    "    for file in files:\n",
    "\n",
    "        with open(f'{path}/{file}') as f:\n",
    "            header = re.sub(r'\\.json', '', file)\n",
    "            hts_data.append(\n",
    "                {\n",
    "                    'header': header,\n",
    "                    'data': json.loads(f.read())\n",
    "                })\n",
    "\n",
    "    return hts_data\n",
    "\n",
    "def getHTSRecord(hts_data: list[dict[str, any]], queryStr: str):\n",
    "\n",
    "    for record in hts_data:\n",
    "        \n",
    "        if record['header'] == queryStr:\n",
    "            return record['data']\n",
    "    \n",
    "    return 'No record found'"
   ]
  },
  {
   "cell_type": "code",
   "execution_count": 85,
   "metadata": {},
   "outputs": [],
   "source": [
    "def checkResultQuery(result_query: list[dict[str, any]]):\n",
    "\n",
    "    index = 0\n",
    "    indent_list = [record['indent'] for record in result_query if 'indent' in record]\n",
    "    \n",
    "    for i in range(0, result_query[-1]['indent']):\n",
    "        \n",
    "        if i not in indent_list:\n",
    "    \n",
    "            if 'missing' in result_query[index-1]:\n",
    "\n",
    "                result_query[index-1]['missing'].append(i)\n",
    "            else:\n",
    "                result_query[index-1]['missing'] = [i]\n",
    "\n",
    "        else:\n",
    "            index += 1\n",
    "\n",
    "def searchEHIndents(result_query: list[dict[str, any]], hts_record: list[dict[str, any]]):\n",
    "\n",
    "    result_final = []\n",
    "\n",
    "    for key, result in enumerate(result_query):\n",
    "\n",
    "        if 'missing' not in result: continue\n",
    "\n",
    "        next_hts = result_query[key+1]['htsno']\n",
    "        indents = result_query[key]['missing']\n",
    "\n",
    "        for i in range(result['indexHTSRec'], result_query[key+1]['indexHTSRec']):\n",
    "\n",
    "            for indent in indents:\n",
    "\n",
    "                if 'htsno' not in hts_record[i] and indent == hts_record[i]['indent']:\n",
    "                    print(hts_record[i])\n",
    "                    print(i)\n",
    "                    result_final.append(hts_record[i])\n",
    "\n",
    "    def iterateHTS(hts_record: list[dict[str, any]], next_hts: str, start: int, end: int):\n",
    "\n",
    "        result = []\n",
    "        subtractor = 0\n",
    "\n",
    "        for i in range(start, end):\n",
    "\n",
    "            subtractor += 1\n",
    "\n",
    "            if 'htsno' in hts_record[i] and hts_record[i] == next_hts:\n",
    "                return i - subtractor\n",
    "\n",
    "    return result_final\n",
    "\n"
   ]
  },
  {
   "cell_type": "code",
   "execution_count": 86,
   "metadata": {},
   "outputs": [],
   "source": [
    "def grabQueryRecords(hts_record: list[dict[str, any]], query: list[str]) -> list[dict[str, any]]:\n",
    "\n",
    "    result = []\n",
    "    index_query = 0\n",
    "\n",
    "    while index_query < len(query):\n",
    "\n",
    "        for key, record in enumerate(hts_record):\n",
    "\n",
    "            if 'htsno' in record and re.match(rf'{query[index_query]}$', record['htsno']):\n",
    "\n",
    "                result.append({\n",
    "                    'htsno': record['htsno'],\n",
    "                    'indent': record['indent'],\n",
    "                    'description': record['description'],\n",
    "                    'indexHTSRec': key\n",
    "                })\n",
    "\n",
    "        index_query += 1\n",
    "    \n",
    "    checkResultQuery(result)\n",
    "    \n",
    "    return result"
   ]
  },
  {
   "cell_type": "code",
   "execution_count": 87,
   "metadata": {},
   "outputs": [],
   "source": [
    "path = '../../db_hts/temp/NEW_final_json_files'\n",
    "query = [\"0201\", \"0201.20\", \"0201.20.06\", \"0201.20.06.00\"]\n",
    "files = os.listdir(path)\n",
    "hts_data = importJSONFiles(files, path)"
   ]
  },
  {
   "cell_type": "code",
   "execution_count": 88,
   "metadata": {},
   "outputs": [],
   "source": [
    "hts_record = getHTSRecord(hts_data, query[0])"
   ]
  },
  {
   "cell_type": "code",
   "execution_count": 89,
   "metadata": {},
   "outputs": [
    {
     "data": {
      "text/plain": [
       "[{'htsno': '0201',\n",
       "  'indent': 0,\n",
       "  'description': 'Meat of bovine animals, fresh or chilled:',\n",
       "  'indexHTSRec': 0},\n",
       " {'htsno': '0201.20',\n",
       "  'indent': 1,\n",
       "  'description': 'Other cuts with bone in:',\n",
       "  'indexHTSRec': 11,\n",
       "  'missing': [2]},\n",
       " {'htsno': '0201.20.06.00',\n",
       "  'indent': 3,\n",
       "  'description': 'Other',\n",
       "  'indexHTSRec': 16}]"
      ]
     },
     "execution_count": 89,
     "metadata": {},
     "output_type": "execute_result"
    }
   ],
   "source": [
    "result = grabQueryRecords(hts_record, query)\n",
    "result"
   ]
  },
  {
   "cell_type": "code",
   "execution_count": 90,
   "metadata": {},
   "outputs": [
    {
     "name": "stdout",
     "output_type": "stream",
     "text": [
      "{'indent': 2, 'description': 'Described in general note 15 of the tariff schedule and entered pursuant to its provisions:', 'superior': 'true'}\n",
      "12\n"
     ]
    },
    {
     "data": {
      "text/plain": [
       "[{'indent': 2,\n",
       "  'description': 'Described in general note 15 of the tariff schedule and entered pursuant to its provisions:',\n",
       "  'superior': 'true'}]"
      ]
     },
     "execution_count": 90,
     "metadata": {},
     "output_type": "execute_result"
    }
   ],
   "source": [
    "EHrecords = searchEHIndents(result, hts_record)\n",
    "EHrecords"
   ]
  }
 ],
 "metadata": {
  "kernelspec": {
   "display_name": "venv",
   "language": "python",
   "name": "python3"
  },
  "language_info": {
   "codemirror_mode": {
    "name": "ipython",
    "version": 3
   },
   "file_extension": ".py",
   "mimetype": "text/x-python",
   "name": "python",
   "nbconvert_exporter": "python",
   "pygments_lexer": "ipython3",
   "version": "3.10.12"
  }
 },
 "nbformat": 4,
 "nbformat_minor": 2
}
