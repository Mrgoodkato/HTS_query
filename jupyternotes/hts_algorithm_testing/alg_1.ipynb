{
 "cells": [
  {
   "cell_type": "code",
   "execution_count": 65,
   "metadata": {},
   "outputs": [],
   "source": [
    "import os, json, re    "
   ]
  },
  {
   "cell_type": "code",
   "execution_count": 66,
   "metadata": {},
   "outputs": [],
   "source": [
    "#This needs to be changed for a database connected function that returns the appropriate collection record\n",
    "def importJSONFiles(files: list, path: str) -> list[dict[str, any]]:\n",
    "\n",
    "    hts_data = []\n",
    "\n",
    "    for file in files:\n",
    "\n",
    "        with open(f'{path}/{file}') as f:\n",
    "            header = re.sub(r'\\.json', '', file)\n",
    "            hts_data.append(\n",
    "                {\n",
    "                    'header': header,\n",
    "                    'data': json.loads(f.read())\n",
    "                })\n",
    "\n",
    "    return hts_data\n",
    "\n",
    "def getHTSRecord(hts_data: list[dict[str, any]], queryStr: str):\n",
    "\n",
    "    for record in hts_data:\n",
    "        \n",
    "        if record['header'] == queryStr:\n",
    "            return record['data']\n",
    "    \n",
    "    return 'No record found'"
   ]
  },
  {
   "cell_type": "code",
   "execution_count": 67,
   "metadata": {},
   "outputs": [],
   "source": [
    "def searchEHIndents(result_query: list[dict[str, any]], hts_record: list[dict[str, any]]) -> list[dict[str, any]]:\n",
    "    \"\"\"Function that search for the Empty HTS records in the current result_query and adds their information to the final result\n",
    "\n",
    "    Args:\n",
    "        result_query (list[dict[str, any]]): Result of the original query to the hts_record with all valid matches for the original query string\n",
    "        hts_record (list[dict[str, any]]): Main record where all the query information is located\n",
    "\n",
    "    Returns:\n",
    "        list[dict[str, any]]: Returns a list of dictinaries with the result_query and the EH records (if present).\n",
    "    \"\"\"\n",
    "    \n",
    "    def createEHRecords(indents: list[int]) -> list[dict[str, int]]:\n",
    "        \"\"\"Helper function that creates the main EH record object list with just the indent key and value\n",
    "\n",
    "        Args:\n",
    "            indents (list[int]): Original indent list grabbed from the result_query object\n",
    "\n",
    "        Returns:\n",
    "            list[dict[str, int]]: Final object list with the indents as key-value pairs.\n",
    "        \"\"\"\n",
    "\n",
    "        result = []\n",
    "        \n",
    "        for indent in indents:\n",
    "\n",
    "            result.append({\n",
    "                'indent': indent\n",
    "            })\n",
    "        \n",
    "        return result\n",
    "    \n",
    "    result_final = []\n",
    "\n",
    "    for key, result in enumerate(result_query):\n",
    "\n",
    "        result_final.append(result)\n",
    "\n",
    "        if 'missing' not in result: continue\n",
    "\n",
    "        indents = result_query[key]['missing']\n",
    "        eh_records = createEHRecords(indents)\n",
    "\n",
    "        for i in range(result['indexHTSRec'], result_query[key+1]['indexHTSRec']):\n",
    "\n",
    "            for rec in eh_records:\n",
    "\n",
    "                if 'htsno' not in hts_record[i] and rec['indent'] == hts_record[i]['indent']:\n",
    "                    \n",
    "                    rec['description'] = hts_record[i]['description']\n",
    "        \n",
    "        \n",
    "        if eh_records: result_final.extend(eh_records)\n",
    "\n",
    "    return result_final\n",
    "\n"
   ]
  },
  {
   "cell_type": "code",
   "execution_count": 69,
   "metadata": {},
   "outputs": [],
   "source": [
    "path = '../../db_hts/temp/NEW_final_json_files'\n",
    "query = [\"8802\", \"8802.20\", \"8802.20.01\", \"8802.20.01.20\"]\n",
    "files = os.listdir(path)\n",
    "hts_data = importJSONFiles(files, path)"
   ]
  },
  {
   "cell_type": "code",
   "execution_count": 70,
   "metadata": {},
   "outputs": [],
   "source": [
    "hts_record = getHTSRecord(hts_data, query[0])"
   ]
  },
  {
   "cell_type": "code",
   "execution_count": 71,
   "metadata": {},
   "outputs": [
    {
     "data": {
      "text/plain": [
       "[{'htsno': '8802',\n",
       "  'indent': 0,\n",
       "  'description': 'Other aircraft (for example, helicopters, airplanes, except unmanned aircraft of heading 8806); spacecraft (including satellites) and suborbital and spacecraft launch vehicles:',\n",
       "  'indexHTSRec': 0},\n",
       " {'htsno': '8802.20.01',\n",
       "  'indent': 1,\n",
       "  'description': 'Airplanes and other aircraft, of an unladen weight not exceeding 2,000 kg',\n",
       "  'indexHTSRec': 18,\n",
       "  'missing': [2, 3, 4]},\n",
       " {'htsno': '8802.20.01.20',\n",
       "  'indent': 5,\n",
       "  'description': 'Airplanes',\n",
       "  'indexHTSRec': 23}]"
      ]
     },
     "execution_count": 71,
     "metadata": {},
     "output_type": "execute_result"
    }
   ],
   "source": [
    "result = grabQueryRecords(hts_record, query)\n",
    "result"
   ]
  },
  {
   "cell_type": "code",
   "execution_count": 72,
   "metadata": {},
   "outputs": [
    {
     "data": {
      "text/plain": [
       "[{'htsno': '8802',\n",
       "  'indent': 0,\n",
       "  'description': 'Other aircraft (for example, helicopters, airplanes, except unmanned aircraft of heading 8806); spacecraft (including satellites) and suborbital and spacecraft launch vehicles:',\n",
       "  'indexHTSRec': 0},\n",
       " {'htsno': '8802.20.01',\n",
       "  'indent': 1,\n",
       "  'description': 'Airplanes and other aircraft, of an unladen weight not exceeding 2,000 kg',\n",
       "  'indexHTSRec': 18,\n",
       "  'missing': [2, 3, 4]},\n",
       " {'indent': 2, 'description': 'Other:'},\n",
       " {'indent': 3, 'description': 'New:'},\n",
       " {'indent': 4, 'description': 'Military aircraft:'},\n",
       " {'htsno': '8802.20.01.20',\n",
       "  'indent': 5,\n",
       "  'description': 'Airplanes',\n",
       "  'indexHTSRec': 23}]"
      ]
     },
     "execution_count": 72,
     "metadata": {},
     "output_type": "execute_result"
    }
   ],
   "source": [
    "EHrecords = searchEHIndents(result, hts_record)\n",
    "EHrecords"
   ]
  }
 ],
 "metadata": {
  "kernelspec": {
   "display_name": "venv",
   "language": "python",
   "name": "python3"
  },
  "language_info": {
   "codemirror_mode": {
    "name": "ipython",
    "version": 3
   },
   "file_extension": ".py",
   "mimetype": "text/x-python",
   "name": "python",
   "nbconvert_exporter": "python",
   "pygments_lexer": "ipython3",
   "version": "3.10.12"
  }
 },
 "nbformat": 4,
 "nbformat_minor": 2
}
