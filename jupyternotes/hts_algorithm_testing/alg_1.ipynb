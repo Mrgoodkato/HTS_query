{
 "cells": [
  {
   "cell_type": "code",
   "execution_count": 1,
   "metadata": {},
   "outputs": [],
   "source": [
    "import os, json, re    "
   ]
  },
  {
   "cell_type": "code",
   "execution_count": 2,
   "metadata": {},
   "outputs": [],
   "source": [
    "def importJSONFiles(files: list, path: str) -> list[dict[str, any]]:\n",
    "\n",
    "    hts_data = []\n",
    "\n",
    "    for file in files:\n",
    "\n",
    "        with open(f'{path}/{file}') as f:\n",
    "            header = re.sub(r'\\.json', '', file)\n",
    "            hts_data.append(\n",
    "                {\n",
    "                    'header': header,\n",
    "                    'data': json.loads(f.read())\n",
    "                })\n",
    "\n",
    "    return hts_data\n",
    "\n",
    "def getHTSRecord(hts_data: list[dict[str, any]], queryStr: str):\n",
    "\n",
    "    for record in hts_data:\n",
    "        \n",
    "        if record['header'] == queryStr:\n",
    "            return record['data']\n",
    "    \n",
    "    return 'No record found'"
   ]
  },
  {
   "cell_type": "code",
   "execution_count": 3,
   "metadata": {},
   "outputs": [],
   "source": [
    "def checkResultQuery(result_query: list[dict[str, any]]):\n",
    "\n",
    "    index = 0\n",
    "    indent_list = [record['indent'] for record in result_query if 'indent' in record]\n",
    "    \n",
    "    for i in range(0, result_query[-1]['indent']):\n",
    "        \n",
    "        if i not in indent_list:\n",
    "    \n",
    "            if 'missing' in result_query[index-1]:\n",
    "\n",
    "                result_query[index-1]['missing'].append(i)\n",
    "            else:\n",
    "                result_query[index-1]['missing'] = [i]\n",
    "                result_query[index-1]['recordIndex'] = index-1\n",
    "\n",
    "        else:\n",
    "            index += 1\n",
    "\n"
   ]
  },
  {
   "cell_type": "code",
   "execution_count": 4,
   "metadata": {},
   "outputs": [],
   "source": [
    "def grabQueryRecords(hts_record: list[dict[str, any]], query: list[str]) -> list[dict[str, any]]:\n",
    "\n",
    "    result = []\n",
    "    index_query = 0\n",
    "\n",
    "    while index_query < len(query):\n",
    "\n",
    "        for record in hts_record:\n",
    "\n",
    "            if 'htsno' in record and re.match(rf'{query[index_query]}$', record['htsno']):\n",
    "\n",
    "                result.append({\n",
    "                    'htsno': record['htsno'],\n",
    "                    'indent': record['indent'],\n",
    "                    'description': record['description']\n",
    "                })\n",
    "\n",
    "        index_query += 1\n",
    "    \n",
    "    checkResultQuery(result)\n",
    "    \n",
    "    return result"
   ]
  },
  {
   "cell_type": "code",
   "execution_count": 5,
   "metadata": {},
   "outputs": [],
   "source": [
    "path = '../../db_hts/temp/NEW_final_json_files'\n",
    "query = [\"0201\", \"0201.20\", \"0201.20.06\", \"0201.20.06.00\"]\n",
    "files = os.listdir(path)\n",
    "hts_data = importJSONFiles(files, path)"
   ]
  },
  {
   "cell_type": "code",
   "execution_count": 6,
   "metadata": {},
   "outputs": [],
   "source": [
    "hts_record = getHTSRecord(hts_data, query[0])"
   ]
  },
  {
   "cell_type": "code",
   "execution_count": 7,
   "metadata": {},
   "outputs": [
    {
     "data": {
      "text/plain": [
       "[{'htsno': '0201',\n",
       "  'indent': 0,\n",
       "  'description': 'Meat of bovine animals, fresh or chilled:'},\n",
       " {'htsno': '0201.20',\n",
       "  'indent': 1,\n",
       "  'description': 'Other cuts with bone in:',\n",
       "  'missing': [2],\n",
       "  'recordIndex': 1},\n",
       " {'htsno': '0201.20.06.00', 'indent': 3, 'description': 'Other'}]"
      ]
     },
     "execution_count": 7,
     "metadata": {},
     "output_type": "execute_result"
    }
   ],
   "source": [
    "result = grabQueryRecords(hts_record, query)\n",
    "result"
   ]
  }
 ],
 "metadata": {
  "kernelspec": {
   "display_name": "venv",
   "language": "python",
   "name": "python3"
  },
  "language_info": {
   "codemirror_mode": {
    "name": "ipython",
    "version": 3
   },
   "file_extension": ".py",
   "mimetype": "text/x-python",
   "name": "python",
   "nbconvert_exporter": "python",
   "pygments_lexer": "ipython3",
   "version": "3.10.12"
  }
 },
 "nbformat": 4,
 "nbformat_minor": 2
}
